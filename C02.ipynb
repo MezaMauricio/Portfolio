{
 "cells": [
  {
   "cell_type": "code",
   "execution_count": 1,
   "metadata": {},
   "outputs": [
    {
     "data": {
      "text/plain": [
       "True"
      ]
     },
     "execution_count": 1,
     "metadata": {},
     "output_type": "execute_result"
    }
   ],
   "source": [
    "# ¿es x un entero? \n",
    "x = 1.0\n",
    "x.is_integer()"
   ]
  },
  {
   "cell_type": "code",
   "execution_count": 2,
   "metadata": {},
   "outputs": [
    {
     "data": {
      "text/plain": [
       "False"
      ]
     },
     "execution_count": 2,
     "metadata": {},
     "output_type": "execute_result"
    }
   ],
   "source": [
    "\n",
    "x = 1.4\n",
    "x.is_integer()"
   ]
  },
  {
   "cell_type": "code",
   "execution_count": 3,
   "metadata": {},
   "outputs": [
    {
     "name": "stdout",
     "output_type": "stream",
     "text": [
      "1.4 0.0\n"
     ]
    }
   ],
   "source": [
    "print(x.real,x.imag)"
   ]
  },
  {
   "attachments": {},
   "cell_type": "markdown",
   "metadata": {},
   "source": [
    "# Asignacion de Variables\n",
    "## int"
   ]
  },
  {
   "cell_type": "code",
   "execution_count": 4,
   "metadata": {},
   "outputs": [
    {
     "name": "stdout",
     "output_type": "stream",
     "text": [
      "1 3\n",
      "140720432997160 140720432997224\n"
     ]
    }
   ],
   "source": [
    "a = 1 \n",
    "b = 3 \n",
    "\n",
    "print (a,b)\n",
    "print (id(a) , id (b)) "
   ]
  },
  {
   "cell_type": "code",
   "execution_count": 5,
   "metadata": {},
   "outputs": [
    {
     "name": "stdout",
     "output_type": "stream",
     "text": [
      "1 1\n",
      "140720432997160 140720432997160\n"
     ]
    }
   ],
   "source": [
    "b = a \n",
    "\n",
    "print (a,b)\n",
    "print (id(a) , id (b)) "
   ]
  },
  {
   "cell_type": "code",
   "execution_count": 6,
   "metadata": {},
   "outputs": [
    {
     "name": "stdout",
     "output_type": "stream",
     "text": [
      "2 1\n",
      "140720432997192 140720432997160\n"
     ]
    }
   ],
   "source": [
    "a = 2 \n",
    "print (a,b)\n",
    "print (id(a) , id (b)) "
   ]
  },
  {
   "cell_type": "code",
   "execution_count": 7,
   "metadata": {},
   "outputs": [],
   "source": [
    "del a \n",
    "del b"
   ]
  },
  {
   "cell_type": "code",
   "execution_count": 8,
   "metadata": {},
   "outputs": [
    {
     "name": "stdout",
     "output_type": "stream",
     "text": [
      "4 4\n",
      "140720432997256 140720432997256\n"
     ]
    }
   ],
   "source": [
    "a = 4 \n",
    "b = 4 \n",
    "\n",
    "print (a,b)\n",
    "print (id(a) , id(b)) "
   ]
  },
  {
   "attachments": {},
   "cell_type": "markdown",
   "metadata": {},
   "source": [
    "# Listas"
   ]
  },
  {
   "cell_type": "code",
   "execution_count": 9,
   "metadata": {},
   "outputs": [],
   "source": [
    "del a\n",
    "del b "
   ]
  },
  {
   "cell_type": "code",
   "execution_count": 10,
   "metadata": {},
   "outputs": [
    {
     "name": "stdout",
     "output_type": "stream",
     "text": [
      "[1, 2, 3, 5] [2, 3, 5]\n",
      "1992038698304 1992038190016\n"
     ]
    }
   ],
   "source": [
    "a = [1,2,3,5]\n",
    "b = [2,3,5]\n",
    "\n",
    "print (a,b)\n",
    "print (id(a) , id (b)) "
   ]
  },
  {
   "cell_type": "code",
   "execution_count": 11,
   "metadata": {},
   "outputs": [
    {
     "name": "stdout",
     "output_type": "stream",
     "text": [
      "[1, 2, 3, 5, 9] [1, 2, 3, 5, 9]\n",
      "1992038698304 1992038698304\n"
     ]
    }
   ],
   "source": [
    "b  = a \n",
    "a.append(9)\n",
    "\n",
    "print (a,b)\n",
    "print (id(a) , id(b)) "
   ]
  },
  {
   "attachments": {},
   "cell_type": "markdown",
   "metadata": {},
   "source": [
    "# Comparaciones"
   ]
  },
  {
   "cell_type": "code",
   "execution_count": 12,
   "metadata": {},
   "outputs": [],
   "source": [
    "del a\n",
    "del b"
   ]
  },
  {
   "cell_type": "code",
   "execution_count": 13,
   "metadata": {},
   "outputs": [],
   "source": [
    "a = 5 \n",
    "b = 5"
   ]
  },
  {
   "cell_type": "code",
   "execution_count": 14,
   "metadata": {},
   "outputs": [
    {
     "data": {
      "text/plain": [
       "True"
      ]
     },
     "execution_count": 14,
     "metadata": {},
     "output_type": "execute_result"
    }
   ],
   "source": [
    "a <= b "
   ]
  },
  {
   "attachments": {},
   "cell_type": "markdown",
   "metadata": {},
   "source": [
    "# Estructuras de Control"
   ]
  },
  {
   "cell_type": "code",
   "execution_count": 15,
   "metadata": {},
   "outputs": [],
   "source": [
    "## if \n",
    "del a \n",
    "del b "
   ]
  },
  {
   "cell_type": "code",
   "execution_count": 16,
   "metadata": {},
   "outputs": [
    {
     "name": "stdout",
     "output_type": "stream",
     "text": [
      "18 es mayor a  10\n"
     ]
    }
   ],
   "source": [
    "a = 18 \n",
    "th = 10\n",
    "\n",
    "if a <= th:\n",
    "  if a < th:\n",
    "    print (a, 'es meno a ',th)\n",
    "  else:\n",
    "    print (a, 'es igual a ',th)\n",
    "\n",
    "  print (a,'es menor o igual a ',th)\n",
    "else: \n",
    "  print (a,'es mayor a ',th)\n"
   ]
  },
  {
   "attachments": {},
   "cell_type": "markdown",
   "metadata": {},
   "source": [
    "# For y While"
   ]
  },
  {
   "cell_type": "code",
   "execution_count": 1,
   "metadata": {},
   "outputs": [
    {
     "name": "stdout",
     "output_type": "stream",
     "text": [
      "0\n",
      "1\n",
      "2\n",
      "3\n",
      "4\n",
      "5\n",
      "6\n",
      "7\n",
      "8\n",
      "9\n"
     ]
    }
   ],
   "source": [
    "for i in range(10):\n",
    "  print (i)"
   ]
  },
  {
   "cell_type": "code",
   "execution_count": 2,
   "metadata": {},
   "outputs": [
    {
     "name": "stdout",
     "output_type": "stream",
     "text": [
      "0\n",
      "2\n",
      "4\n",
      "6\n",
      "8\n",
      "10\n",
      "12\n",
      "14\n",
      "16\n",
      "18\n",
      "20\n",
      "22\n",
      "24\n",
      "26\n",
      "28\n",
      "30\n",
      "32\n",
      "34\n",
      "36\n",
      "38\n",
      "40\n",
      "42\n",
      "44\n",
      "46\n",
      "48\n",
      "50\n",
      "52\n",
      "54\n",
      "56\n",
      "58\n",
      "60\n",
      "62\n",
      "64\n",
      "66\n",
      "68\n",
      "70\n",
      "72\n",
      "74\n",
      "76\n",
      "78\n",
      "80\n",
      "82\n",
      "84\n",
      "86\n",
      "88\n",
      "90\n",
      "92\n",
      "94\n",
      "96\n",
      "98\n"
     ]
    }
   ],
   "source": [
    "\n",
    "i = 0\n",
    "cond2 = 23  \n",
    "while (i < 100):\n",
    "  print (i)\n",
    "  i += 2\n",
    "  if i == cond2:\n",
    "    break  "
   ]
  },
  {
   "cell_type": "code",
   "execution_count": 3,
   "metadata": {},
   "outputs": [
    {
     "name": "stdout",
     "output_type": "stream",
     "text": [
      "100\n",
      "2323\n",
      "3232\n"
     ]
    }
   ],
   "source": [
    "precios  = [100,2323,3232,4434,64646]\n",
    "\n",
    "print (precios[0])\n",
    "print (precios[1])\n",
    "print (precios[2])"
   ]
  },
  {
   "cell_type": "code",
   "execution_count": 4,
   "metadata": {},
   "outputs": [
    {
     "name": "stdout",
     "output_type": "stream",
     "text": [
      "0 100\n",
      "1 2323\n",
      "2 3232\n",
      "3 4434\n",
      "4 64646\n"
     ]
    }
   ],
   "source": [
    "i = 0 \n",
    "while (i < len(precios)):\n",
    "  print (i,precios[i])\n",
    "  i +=1 "
   ]
  },
  {
   "cell_type": "code",
   "execution_count": 5,
   "metadata": {},
   "outputs": [
    {
     "name": "stdout",
     "output_type": "stream",
     "text": [
      "100\n",
      "2323\n",
      "3232\n",
      "4434\n",
      "64646\n"
     ]
    }
   ],
   "source": [
    "\n",
    "for precio in precios: \n",
    "  print (precio)"
   ]
  },
  {
   "cell_type": "code",
   "execution_count": 6,
   "metadata": {},
   "outputs": [
    {
     "data": {
      "text/plain": [
       "[100, 2323, 3232, 4434, 64646]"
      ]
     },
     "execution_count": 6,
     "metadata": {},
     "output_type": "execute_result"
    }
   ],
   "source": [
    "precios"
   ]
  },
  {
   "cell_type": "code",
   "execution_count": 7,
   "metadata": {},
   "outputs": [
    {
     "name": "stdout",
     "output_type": "stream",
     "text": [
      "64646\n"
     ]
    }
   ],
   "source": [
    "precio_maximo = 0 \n",
    "\n",
    "for precio in precios:\n",
    "  if precio > precio_maximo:\n",
    "    precio_maximo = precio\n",
    "\n",
    "print (precio_maximo)"
   ]
  },
  {
   "cell_type": "code",
   "execution_count": 8,
   "metadata": {},
   "outputs": [
    {
     "name": "stdout",
     "output_type": "stream",
     "text": [
      "100234234\n",
      "se actualiza el precio_maximo  100234234\n",
      "#####\n",
      "342342323\n",
      "se actualiza el precio_maximo  342342323\n",
      "#####\n",
      "243232\n",
      "#####\n",
      "44434\n",
      "#####\n",
      "6524646\n",
      "#####\n"
     ]
    }
   ],
   "source": [
    "precios2  = [100234234,342342323,243232,44434,6524646]\n",
    "\n",
    "precio_maximo = 0 \n",
    "\n",
    "for precio in precios2:\n",
    "  print (precio)  \n",
    "  if precio > precio_maximo:\n",
    "    precio_maximo = precio\n",
    "    print ('se actualiza el precio_maximo ',precio_maximo)\n",
    "\n",
    "  print ('#####')\n",
    "\n",
    "\n",
    "#print (precio_maximo)"
   ]
  },
  {
   "attachments": {},
   "cell_type": "markdown",
   "metadata": {},
   "source": [
    "# Funciones"
   ]
  },
  {
   "cell_type": "code",
   "execution_count": 9,
   "metadata": {},
   "outputs": [],
   "source": [
    "def buscar_maximo(precios):\n",
    "  precio_maximo = 0 \n",
    "  for precio in precios:\n",
    "    if precio > precio_maximo:\n",
    "      precio_maximo = precio\n",
    "  return precio_maximo\n",
    "\n"
   ]
  },
  {
   "cell_type": "code",
   "execution_count": 10,
   "metadata": {},
   "outputs": [
    {
     "data": {
      "text/plain": [
       "342342323"
      ]
     },
     "execution_count": 10,
     "metadata": {},
     "output_type": "execute_result"
    }
   ],
   "source": [
    "precio_maximo = buscar_maximo(precios2) \n",
    "\n",
    "precio_maximo"
   ]
  },
  {
   "cell_type": "code",
   "execution_count": 11,
   "metadata": {},
   "outputs": [],
   "source": [
    "def buscar_maximo(precios):\n",
    "  precio_maximo = 0 \n",
    "  for precio in precios:\n",
    "    if precio > precio_maximo:\n",
    "      precio_maximo = precio\n",
    "  return precio_maximo"
   ]
  },
  {
   "cell_type": "code",
   "execution_count": 12,
   "metadata": {},
   "outputs": [],
   "source": [
    "def buscar_maximo(precios,precio_maximo=0):\n",
    "  for precio in precios:\n",
    "    if precio > precio_maximo:\n",
    "      precio_maximo = precio\n",
    "  return precio_maximo"
   ]
  },
  {
   "cell_type": "code",
   "execution_count": 13,
   "metadata": {},
   "outputs": [
    {
     "data": {
      "text/plain": [
       "100000"
      ]
     },
     "execution_count": 13,
     "metadata": {},
     "output_type": "execute_result"
    }
   ],
   "source": [
    "buscar_maximo(precios,100000)"
   ]
  },
  {
   "cell_type": "code",
   "execution_count": 14,
   "metadata": {},
   "outputs": [
    {
     "name": "stdout",
     "output_type": "stream",
     "text": [
      "test\n"
     ]
    },
    {
     "data": {
      "text/plain": [
       "[1, 2]"
      ]
     },
     "execution_count": 14,
     "metadata": {},
     "output_type": "execute_result"
    }
   ],
   "source": [
    "def twoSum(nums, target):\n",
    "    \"\"\"\n",
    "    :type nums: List[int]\n",
    "    :type target: int\n",
    "    :rtype: List[int]\n",
    "    \"\"\"\n",
    "    print ('test')\n",
    "\n",
    "    return [1,2]\n",
    "\n",
    "\n",
    "nums = [3,2,4]\n",
    "target = 6\n",
    "\n",
    "twoSum(nums, target)"
   ]
  }
 ],
 "metadata": {
  "kernelspec": {
   "display_name": "Python 3",
   "language": "python",
   "name": "python3"
  },
  "language_info": {
   "codemirror_mode": {
    "name": "ipython",
    "version": 3
   },
   "file_extension": ".py",
   "mimetype": "text/x-python",
   "name": "python",
   "nbconvert_exporter": "python",
   "pygments_lexer": "ipython3",
   "version": "3.11.1"
  },
  "orig_nbformat": 4,
  "vscode": {
   "interpreter": {
    "hash": "477de128947aa56316997359c4fa3f815eda302f49ba8e89d37bcd93ac440a1c"
   }
  }
 },
 "nbformat": 4,
 "nbformat_minor": 2
}
